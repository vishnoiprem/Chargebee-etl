{
  "nbformat": 4,
  "nbformat_minor": 0,
  "metadata": {
    "colab": {
      "name": "cheil-test-review.ipynb",
      "provenance": [],
      "collapsed_sections": [],
      "authorship_tag": "ABX9TyM5axli+urHpWQaSME0Nj/2",
      "include_colab_link": true
    },
    "kernelspec": {
      "name": "python3",
      "display_name": "Python 3"
    },
    "language_info": {
      "name": "python"
    }
  },
  "cells": [
    {
      "cell_type": "markdown",
      "metadata": {
        "id": "view-in-github",
        "colab_type": "text"
      },
      "source": [
        "<a href=\"https://colab.research.google.com/github/vishnoiprem/Chargebee-etl/blob/master/cheil_test_review.ipynb\" target=\"_parent\"><img src=\"https://colab.research.google.com/assets/colab-badge.svg\" alt=\"Open In Colab\"/></a>"
      ]
    },
    {
      "cell_type": "code",
      "execution_count": null,
      "metadata": {
        "id": "0ziqaqgdLKV9"
      },
      "outputs": [],
      "source": [
        ""
      ]
    },
    {
      "cell_type": "code",
      "source": [
        ""
      ],
      "metadata": {
        "id": "tvmJPzRtMRqf"
      },
      "execution_count": null,
      "outputs": []
    },
    {
      "cell_type": "markdown",
      "source": [
        ""
      ],
      "metadata": {
        "id": "K2MBTo2kMSJf"
      }
    },
    {
      "cell_type": "code",
      "source": [
        "# 1.\tProblem:\n",
        "# How to unzip large .gz file (30 GB) effectively \n",
        "# a/ How to approach the problem.\n",
        "# b/ Any alternative solutions in case resources are limited.\n"
      ],
      "metadata": {
        "id": "q9svqxhSMX6k"
      },
      "execution_count": 3,
      "outputs": []
    },
    {
      "cell_type": "code",
      "source": [
        ""
      ],
      "metadata": {
        "id": "mlkp3Q7GMb8-"
      },
      "execution_count": 3,
      "outputs": []
    },
    {
      "cell_type": "markdown",
      "source": [
        "1.\tProblem:\n",
        "How to unzip large .gz file (30 GB) effectively \n",
        "a/ How to approach the problem.\n",
        "b/ Any alternative solutions in case resources are limited.\n",
        "`bold text`"
      ],
      "metadata": {
        "id": "yn0zJPHCMeha"
      }
    },
    {
      "cell_type": "markdown",
      "source": [
        ""
      ],
      "metadata": {
        "id": "WfiCwdHwMdqL"
      }
    },
    {
      "cell_type": "code",
      "source": [
        "# we use the gzip < file > file.gz\n",
        "\n",
        "!touch cheil_1.txt\n",
        "!zip cheil_1.txt cheil_1.gz\n",
        "!gzip cheil_1.gz cheil_see.txt"
      ],
      "metadata": {
        "colab": {
          "base_uri": "https://localhost:8080/"
        },
        "id": "3BlThqbfMi_r",
        "outputId": "5835c87d-63cc-4bf8-be4a-01e30c524715"
      },
      "execution_count": 17,
      "outputs": [
        {
          "output_type": "stream",
          "name": "stdout",
          "text": [
            "\tzip warning: missing end signature--probably not a zip file (did you\n",
            "\tzip warning: remember to use binary mode when you transferred it?)\n",
            "\tzip warning: (if you are trying to read a damaged archive try -F)\n",
            "\n",
            "zip error: Zip file structure invalid (cheil_1.txt)\n",
            "gzip: cheil_1.gz already has .gz suffix -- unchanged\n",
            "gzip: cheil_see.txt: No such file or directory\n"
          ]
        }
      ]
    },
    {
      "cell_type": "code",
      "source": [
        "!ls -lrt"
      ],
      "metadata": {
        "colab": {
          "base_uri": "https://localhost:8080/"
        },
        "id": "ITbnxujVMs1H",
        "outputId": "96994632-caf1-4652-fc38-8a7eb16cfdf1"
      },
      "execution_count": 18,
      "outputs": [
        {
          "output_type": "stream",
          "name": "stdout",
          "text": [
            "total 8\n",
            "drwxr-xr-x 1 root root 4096 Jul  6 13:22 sample_data\n",
            "-rw-r--r-- 1 root root   30 Jul 11 07:45 cheil.zip.gz\n",
            "-rw-r--r-- 1 root root    0 Jul 11 07:45 cheil.zip\n",
            "-rw-r--r-- 1 root root    0 Jul 11 07:48 cheil.gz\n",
            "-rw-r--r-- 1 root root    0 Jul 11 07:48 cheil_1.gz\n",
            "-rw-r--r-- 1 root root    0 Jul 11 07:49 cheil_1.txt\n"
          ]
        }
      ]
    },
    {
      "cell_type": "code",
      "source": [
        "!ls -lrt"
      ],
      "metadata": {
        "colab": {
          "base_uri": "https://localhost:8080/"
        },
        "id": "Oz_qDScdOQP9",
        "outputId": "a5f429cc-e8cf-414a-97ca-97807d22a932"
      },
      "execution_count": 16,
      "outputs": [
        {
          "output_type": "stream",
          "name": "stdout",
          "text": [
            "total 8\n",
            "drwxr-xr-x 1 root root 4096 Jul  6 13:22 sample_data\n",
            "-rw-r--r-- 1 root root   30 Jul 11 07:45 cheil.zip.gz\n",
            "-rw-r--r-- 1 root root    0 Jul 11 07:45 cheil.zip\n",
            "-rw-r--r-- 1 root root    0 Jul 11 07:48 cheil.gz\n",
            "-rw-r--r-- 1 root root    0 Jul 11 07:48 cheil_1.gz\n"
          ]
        }
      ]
    },
    {
      "cell_type": "code",
      "source": [
        "# https://www.reddit.com/r/dataengineering/comments/ea0ka1/processing_large_gz_files_efficiently/"
      ],
      "metadata": {
        "id": "7ftegzJrOxhD"
      },
      "execution_count": 20,
      "outputs": []
    },
    {
      "cell_type": "code",
      "source": [
        "# This sounds like a pretty good use case for Spark.\n",
        "\n",
        "# Drop the data on Azure Blob Storage in its compressed form\n",
        "\n",
        "# Get Azure Databricks setup\n",
        "\n",
        "# Query directly against the gzip files\n",
        "\n",
        "# Or ingest all of the data into a delta table\n",
        "\n",
        "# Query against the data with spark or, if you prefer, export to somewhere else."
      ],
      "metadata": {
        "id": "CZ1WBQE3PGI_"
      },
      "execution_count": 21,
      "outputs": []
    },
    {
      "cell_type": "code",
      "source": [
        ""
      ],
      "metadata": {
        "id": "aYr_po3RPQ6D"
      },
      "execution_count": null,
      "outputs": []
    },
    {
      "cell_type": "markdown",
      "source": [
        "2.\tWe want to get data from Adobe Analytics/SEMrush using API method, and put data into BigQuery (or any cloud databases) on a regular basis.\n",
        "\n",
        "```\n",
        "# This isa/ How to approach the problem? (i.e. how to proceed, research, …)\n",
        "b/ What factors need to be considered? (Performance wise, scalability wise …)\n",
        "c/ How to validate data (i.e. make sure source and target’s numbers match)\n",
        " formatted as code\n",
        "```\n",
        "\n",
        "bold text"
      ],
      "metadata": {
        "id": "4QrHGnB0PUl4"
      }
    },
    {
      "cell_type": "code",
      "source": [
        "# 1)This need to check the data store in google PUB and SUB \n",
        "\n",
        "# 2) every day write into BigQuery\n",
        "# 3) validate count , day wise some of amount \n"
      ],
      "metadata": {
        "id": "GhxlSpHqPXG8"
      },
      "execution_count": 23,
      "outputs": []
    },
    {
      "cell_type": "code",
      "source": [
        ""
      ],
      "metadata": {
        "id": "AhHb7NyiSWZz"
      },
      "execution_count": 23,
      "outputs": []
    },
    {
      "cell_type": "markdown",
      "source": [
        "3.\tCreate an Architecture of data pipeline from AWS to Big Query (or any Data lake) \n",
        "a.\tPlease draw a draft diagram (we are not looking for exact but a logic diagram) *you can use draw.io/paint or even pen & paper\n",
        "b.\tPlease state the different compute instances you might be using\n",
        "c.\tInclude as many minor details you will require to achieve end-end application\n"
      ],
      "metadata": {
        "id": "EtrC6u6vSXDM"
      }
    },
    {
      "cell_type": "code",
      "source": [
        "#https://qkdlql.medium.com/create-read-only-replica-from-aws-rds-to-gcp-cloud-sql-query-with-bigquery-mysql-8-0-aeb6eb3481a5\n",
        "#https://aws.amazon.com/blogs/big-data/migrate-terabytes-of-data-quickly-from-google-cloud-to-amazon-s3-with-aws-glue-connector-for-google-bigquery/\n",
        "#https://skyvia.com/blog/how-to-load-data-into-bigquery\n",
        "\n"
      ],
      "metadata": {
        "id": "BFBxsMtBSbAO"
      },
      "execution_count": 26,
      "outputs": []
    },
    {
      "cell_type": "code",
      "source": [
        ""
      ],
      "metadata": {
        "id": "2af_vglWdIPu"
      },
      "execution_count": null,
      "outputs": []
    },
    {
      "cell_type": "markdown",
      "source": [
        "4.\tHow to write a case statement in shell (please give a basic syntax)."
      ],
      "metadata": {
        "id": "JataJTTSdwOW"
      }
    },
    {
      "cell_type": "code",
      "source": [
        "# #!/bin/bash\n",
        "# echo \"Which color do you like most?\"\n",
        "# echo \"1 - Sky\"\n",
        "# echo \"2 - Red\"\n",
        "# echo \"3 - Yellow\"\n",
        "# echo \"4 - Green\"\n",
        "# echo \"5 - Orange\"\n",
        "# read color;\n",
        "# case $color in\n",
        "#   1) echo \"Sky is a primary color.\";;\n",
        "#   2) echo \"Red is a primary color.\";;\n",
        "#   3) echo \"Yellow is a primary color.\";;\n",
        "#   4) echo \"Green is a secondary color.\";;\n",
        "#   5) echo \"Orange is a secondary color.\";;\n",
        "#   *) echo \"This color is not available. Please choose a different one.\";; \n",
        "# esac"
      ],
      "metadata": {
        "id": "jotuethqdyVf"
      },
      "execution_count": 28,
      "outputs": []
    },
    {
      "cell_type": "code",
      "source": [
        "#!/bin/bash\n",
        "!echo \"Which color do you like most?\"\n",
        "!echo \"1 - Sky\"\n",
        "!echo \"2 - Red\"\n",
        "!echo \"3 - Yellow\"\n",
        "!echo \"4 - Green\"\n",
        "!echo \"5 - Orange\"\n",
        "!read color;\n",
        "!case $color in\n",
        "!  1) echo \"Sky is a primary color.\";;\n",
        "!  2) echo \"Red is a primary color.\";;\n",
        "!  3) echo \"Yellow is a primary color.\";;\n",
        "!  4) echo \"Green is a secondary color.\";;\n",
        "!  5) echo \"Orange is a secondary color.\";;!\n",
        "!  *) echo \"This color is not available. Please choose a different one.\";; \n",
        "!esac"
      ],
      "metadata": {
        "colab": {
          "base_uri": "https://localhost:8080/"
        },
        "id": "Pb-r9EFIeMr3",
        "outputId": "b96e289c-e27d-421f-df27-d5d3c88b5776"
      },
      "execution_count": 30,
      "outputs": [
        {
          "output_type": "stream",
          "name": "stdout",
          "text": [
            "Which color do you like most?\n",
            "1 - Sky\n",
            "2 - Red\n",
            "3 - Yellow\n",
            "4 - Green\n",
            "5 - Orange\n",
            "Sky\n",
            "/bin/bash: -c: line 1: syntax error: unexpected end of file\n",
            "/bin/bash: -c: line 0: syntax error near unexpected token `)'\n",
            "/bin/bash: -c: line 0: `  1) echo \"Sky is a primary color.\";;'\n",
            "/bin/bash: -c: line 0: syntax error near unexpected token `)'\n",
            "/bin/bash: -c: line 0: `  2) echo \"Red is a primary color.\";;'\n",
            "/bin/bash: -c: line 0: syntax error near unexpected token `)'\n",
            "/bin/bash: -c: line 0: `  3) echo \"Yellow is a primary color.\";;'\n",
            "/bin/bash: -c: line 0: syntax error near unexpected token `)'\n",
            "/bin/bash: -c: line 0: `  4) echo \"Green is a secondary color.\";;'\n",
            "/bin/bash: -c: line 0: syntax error near unexpected token `)'\n",
            "/bin/bash: -c: line 0: `  5) echo \"Orange is a secondary color.\";;!'\n",
            "/bin/bash: -c: line 0: syntax error near unexpected token `)'\n",
            "/bin/bash: -c: line 0: `  *) echo \"This color is not available. Please choose a different one.\";; '\n",
            "/bin/bash: -c: line 0: syntax error near unexpected token `esac'\n",
            "/bin/bash: -c: line 0: `esac'\n"
          ]
        }
      ]
    },
    {
      "cell_type": "code",
      "source": [
        ""
      ],
      "metadata": {
        "id": "qFCpw0l3eTdK"
      },
      "execution_count": null,
      "outputs": []
    },
    {
      "cell_type": "markdown",
      "source": [
        "5.\tAs a data engineer, I want to ingest the file iris.csv into the database, let find in the link:\n",
        "https://www.kaggle.com/datasets/uciml/iris\n",
        "The size of the file is 10GB.\n",
        "Notice: Let's write a function in which language you’re familiar. Tell me to know the pros and cons of your solution.\n"
      ],
      "metadata": {
        "id": "6RVOAKSqe8-E"
      }
    },
    {
      "cell_type": "code",
      "source": [
        "#https://k21academy.com/google-cloud/cloud-sql-vs-cloud-spanner/\n",
        "#https://github.com/GoogleCloudPlatform/cloud-sql-python-connector"
      ],
      "metadata": {
        "id": "KEhZVsO2e9cm"
      },
      "execution_count": 33,
      "outputs": []
    },
    {
      "cell_type": "code",
      "source": [
        ""
      ],
      "metadata": {
        "id": "8ePOgTE6gGxe"
      },
      "execution_count": null,
      "outputs": []
    }
  ]
}